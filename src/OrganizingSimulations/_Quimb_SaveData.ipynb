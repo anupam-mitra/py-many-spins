{
 "cells": [
  {
   "cell_type": "code",
   "execution_count": 72,
   "metadata": {},
   "outputs": [],
   "source": [
    "import lzma\n",
    "s = pickle.dumps(psi_ts_trajs)"
   ]
  },
  {
   "cell_type": "code",
   "execution_count": 78,
   "metadata": {},
   "outputs": [],
   "source": [
    "s_array = pickle.dumps(np.asarray(psi_ts_trajs, dtype=object))"
   ]
  },
  {
   "cell_type": "code",
   "execution_count": 76,
   "metadata": {
    "tags": []
   },
   "outputs": [
    {
     "name": "stdout",
     "output_type": "stream",
     "text": [
      "CPU times: user 22min 3s, sys: 5.89 s, total: 22min 9s\n",
      "Wall time: 22min 24s\n"
     ]
    }
   ],
   "source": [
    "%%time\n",
    "s_compressed = lzma.compress(s)"
   ]
  },
  {
   "cell_type": "code",
   "execution_count": 80,
   "metadata": {},
   "outputs": [
    {
     "data": {
      "text/plain": [
       "(3.680209208279848, 3.6816780203953385, 2.4485338935628533)"
      ]
     },
     "execution_count": 80,
     "metadata": {},
     "output_type": "execute_result"
    }
   ],
   "source": [
    "sys.getsizeof(s) / (1<<30), \\\n",
    "sys.getsizeof(s_array) / (1<<30), \\\n",
    "sys.getsizeof(s_compressed) / (1<<30), \\"
   ]
  },
  {
   "cell_type": "markdown",
   "metadata": {},
   "source": [
    "# Saving simulation data\n",
    "\n",
    "To store data simulated by `qutip`, I used SQL tables to store the data. Types like integers, real numbers and strings can be stored easily. However, storing Python objects is not straightforward. In the `qutip` simulations, I used `pickle.dumps` to serialize objects of type `qutip.qobj.Qobj` to `bytes`, which can be stored as a blob in an SQL table."
   ]
  },
  {
   "cell_type": "code",
   "execution_count": 20,
   "metadata": {},
   "outputs": [],
   "source": [
    "import itertools\n",
    "import pickle\n",
    "import pandas as pd\n",
    "\n",
    "import sys"
   ]
  },
  {
   "cell_type": "code",
   "execution_count": 21,
   "metadata": {},
   "outputs": [
    {
     "data": {
      "text/html": [
       "<div>\n",
       "<style scoped>\n",
       "    .dataframe tbody tr th:only-of-type {\n",
       "        vertical-align: middle;\n",
       "    }\n",
       "\n",
       "    .dataframe tbody tr th {\n",
       "        vertical-align: top;\n",
       "    }\n",
       "\n",
       "    .dataframe thead th {\n",
       "        text-align: right;\n",
       "    }\n",
       "</style>\n",
       "<table border=\"1\" class=\"dataframe\">\n",
       "  <thead>\n",
       "    <tr style=\"text-align: right;\">\n",
       "      <th></th>\n",
       "      <th>hamiltonianUUID</th>\n",
       "      <th>modelName</th>\n",
       "      <th>geometry</th>\n",
       "      <th>xxInteraction</th>\n",
       "      <th>yyInteraction</th>\n",
       "      <th>zzInteraction</th>\n",
       "      <th>xMagneticField</th>\n",
       "      <th>yMagneticField</th>\n",
       "      <th>zMagneticField</th>\n",
       "    </tr>\n",
       "  </thead>\n",
       "  <tbody>\n",
       "    <tr>\n",
       "      <th>0</th>\n",
       "      <td>None</td>\n",
       "      <td>TransverseFieldIsing</td>\n",
       "      <td>1d-nn</td>\n",
       "      <td>0.0</td>\n",
       "      <td>0.0</td>\n",
       "      <td>1.0</td>\n",
       "      <td>1.0</td>\n",
       "      <td>0.0</td>\n",
       "      <td>0.0</td>\n",
       "    </tr>\n",
       "  </tbody>\n",
       "</table>\n",
       "</div>"
      ],
      "text/plain": [
       "  hamiltonianUUID             modelName geometry  xxInteraction  \\\n",
       "0            None  TransverseFieldIsing    1d-nn            0.0   \n",
       "\n",
       "   yyInteraction  zzInteraction  xMagneticField  yMagneticField  \\\n",
       "0            0.0            1.0             1.0             0.0   \n",
       "\n",
       "   zMagneticField  \n",
       "0             0.0  "
      ]
     },
     "execution_count": 21,
     "metadata": {},
     "output_type": "execute_result"
    }
   ],
   "source": [
    "columnsHamiltonians = ('hamiltonianUUID', \\\n",
    "            'modelName', \\\n",
    "            'geometry', \\\n",
    "            'xxInteraction', \\\n",
    "            'yyInteraction', \\\n",
    "            'zzInteraction', \\\n",
    "            'xMagneticField', \\\n",
    "            'yMagneticField', \\\n",
    "            'zMagneticField',)\n",
    "\n",
    "dataHamiltonians = [(None, 'TransverseFieldIsing', '1d-nn', 0.0, 0.0, j_int, bx, 0.0, 0.0)]\n",
    "\n",
    "dfHamiltonians = pd.DataFrame(data=dataHamiltonians, columns=columnsHamiltonians)\n",
    "dfHamiltonians"
   ]
  },
  {
   "cell_type": "code",
   "execution_count": 22,
   "metadata": {},
   "outputs": [
    {
     "data": {
      "text/html": [
       "<div>\n",
       "<style scoped>\n",
       "    .dataframe tbody tr th:only-of-type {\n",
       "        vertical-align: middle;\n",
       "    }\n",
       "\n",
       "    .dataframe tbody tr th {\n",
       "        vertical-align: top;\n",
       "    }\n",
       "\n",
       "    .dataframe thead th {\n",
       "        text-align: right;\n",
       "    }\n",
       "</style>\n",
       "<table border=\"1\" class=\"dataframe\">\n",
       "  <thead>\n",
       "    <tr style=\"text-align: right;\">\n",
       "      <th></th>\n",
       "      <th>decoherenceUUID</th>\n",
       "      <th>type</th>\n",
       "      <th>GammaMinus</th>\n",
       "      <th>GammaPlus</th>\n",
       "      <th>GammaZ</th>\n",
       "    </tr>\n",
       "  </thead>\n",
       "  <tbody>\n",
       "    <tr>\n",
       "      <th>0</th>\n",
       "      <td>None</td>\n",
       "      <td>local</td>\n",
       "      <td>0.01</td>\n",
       "      <td>0.01</td>\n",
       "      <td>0.0</td>\n",
       "    </tr>\n",
       "  </tbody>\n",
       "</table>\n",
       "</div>"
      ],
      "text/plain": [
       "  decoherenceUUID   type  GammaMinus  GammaPlus  GammaZ\n",
       "0            None  local        0.01       0.01     0.0"
      ]
     },
     "execution_count": 22,
     "metadata": {},
     "output_type": "execute_result"
    }
   ],
   "source": [
    "columnsDecoherence = ('decoherenceUUID', \\\n",
    "            'type', \\\n",
    "            'GammaMinus', \\\n",
    "            'GammaPlus', \\\n",
    "            'GammaZ',)\n",
    "\n",
    "dataDecoherence = [(None, 'local', Gammam, Gammap, 0.0)]\n",
    "\n",
    "dfDecoherence = pd.DataFrame(data=dataDecoherence, columns=columnsDecoherence)\n",
    "dfDecoherence"
   ]
  },
  {
   "cell_type": "code",
   "execution_count": 23,
   "metadata": {},
   "outputs": [],
   "source": [
    "productStates = ('productStateUUID', \\\n",
    "                 'polarAngle', \\\n",
    "                'azimuthalAngle', \\\n",
    "                )"
   ]
  },
  {
   "cell_type": "code",
   "execution_count": 24,
   "metadata": {
    "tags": []
   },
   "outputs": [
    {
     "name": "stdout",
     "output_type": "stream",
     "text": [
      "CPU times: user 8.93 s, sys: 270 ms, total: 9.2 s\n",
      "Wall time: 9.24 s\n"
     ]
    }
   ],
   "source": [
    "%%time\n",
    "# pandas.DataFrame cannot save BLOBs to SQL\n",
    "columnsSimulationResults = ('simulationUUID', 'time', 'trajectoryIndex', 'stateBytes')\n",
    "\n",
    "columnTypes = ('text', 'real', 'integer', 'blob')\n",
    "\n",
    "dataSimulationResults = []\n",
    "dataSimulationResultsCompressed = []\n",
    "\n",
    "for timeIndex, trajectoryIndex in itertools.product(range(n_steps), range(n_trajectories)):\n",
    "    state = psi_ts_trajs[trajectoryIndex][timeIndex]\n",
    "    stateBytes = pickle.dumps(state)\n",
    "   \n",
    "    row = (string_uuid.hex, float(ts[timeIndex]), trajectoryIndex, stateBytes)\n",
    "    \n",
    "    dataSimulationResults += [(row)]    "
   ]
  },
  {
   "cell_type": "code",
   "execution_count": 25,
   "metadata": {},
   "outputs": [
    {
     "ename": "NameError",
     "evalue": "name 'lzma' is not defined",
     "output_type": "error",
     "traceback": [
      "\u001b[0;31m---------------------------------------------------------------------------\u001b[0m",
      "\u001b[0;31mNameError\u001b[0m                                 Traceback (most recent call last)",
      "\u001b[0;32m<timed exec>\u001b[0m in \u001b[0;36m<module>\u001b[0;34m\u001b[0m\n",
      "\u001b[0;31mNameError\u001b[0m: name 'lzma' is not defined"
     ]
    }
   ],
   "source": [
    "%%time\n",
    "# pandas.DataFrame cannot save BLOBs to SQL\n",
    "columnsSimulationResultsCompressed = ('simulationUUID', 'time', 'trajectoryIndex', 'stateBytesCompressed')\n",
    "\n",
    "columnTypes = ('text', 'real', 'integer', 'blob')\n",
    "\n",
    "dataSimulationResultsCompressed = []\n",
    "\n",
    "for timeIndex, trajectoryIndex in itertools.product(range(n_steps), range(n_trajectories)):\n",
    "    state = psi_ts_trajs[trajectoryIndex][timeIndex]\n",
    "    stateBytes = pickle.dumps(state)\n",
    "    stateBytesCompressed = lzma.compress(stateBytes)\n",
    "\n",
    "    rowCompressed = (string_uuid.hex, float(ts[timeIndex]), trajectoryIndex, stateBytesCompressed)\n",
    "    \n",
    "    dataSimulationResultsCompressed +=[(row)]\n",
    "    "
   ]
  },
  {
   "cell_type": "code",
   "execution_count": 26,
   "metadata": {},
   "outputs": [
    {
     "ename": "NameError",
     "evalue": "name 'stateCompressed' is not defined",
     "output_type": "error",
     "traceback": [
      "\u001b[0;31m---------------------------------------------------------------------------\u001b[0m",
      "\u001b[0;31mNameError\u001b[0m                                 Traceback (most recent call last)",
      "\u001b[0;32m<ipython-input-26-94a4facc4074>\u001b[0m in \u001b[0;36m<module>\u001b[0;34m\u001b[0m\n\u001b[0;32m----> 1\u001b[0;31m \u001b[0;32mdel\u001b[0m \u001b[0mstateCompressed\u001b[0m\u001b[0;34m\u001b[0m\u001b[0;34m\u001b[0m\u001b[0m\n\u001b[0m",
      "\u001b[0;31mNameError\u001b[0m: name 'stateCompressed' is not defined"
     ]
    }
   ],
   "source": [
    "del stateCompressed"
   ]
  },
  {
   "cell_type": "code",
   "execution_count": 27,
   "metadata": {},
   "outputs": [
    {
     "ename": "NameError",
     "evalue": "name 'columns' is not defined",
     "output_type": "error",
     "traceback": [
      "\u001b[0;31m---------------------------------------------------------------------------\u001b[0m",
      "\u001b[0;31mNameError\u001b[0m                                 Traceback (most recent call last)",
      "\u001b[0;32m<ipython-input-27-0a1465465bdc>\u001b[0m in \u001b[0;36m<module>\u001b[0;34m\u001b[0m\n\u001b[0;32m----> 1\u001b[0;31m \u001b[0;34m', '\u001b[0m\u001b[0;34m.\u001b[0m\u001b[0mjoin\u001b[0m\u001b[0;34m(\u001b[0m\u001b[0;34m[\u001b[0m\u001b[0;34m' '\u001b[0m\u001b[0;34m.\u001b[0m\u001b[0mjoin\u001b[0m\u001b[0;34m(\u001b[0m\u001b[0mc\u001b[0m\u001b[0;34m)\u001b[0m \u001b[0;32mfor\u001b[0m \u001b[0mc\u001b[0m \u001b[0;32min\u001b[0m \u001b[0mzip\u001b[0m\u001b[0;34m(\u001b[0m\u001b[0mcolumns\u001b[0m\u001b[0;34m,\u001b[0m \u001b[0mcolumnTypes\u001b[0m\u001b[0;34m)\u001b[0m\u001b[0;34m]\u001b[0m\u001b[0;34m)\u001b[0m\u001b[0;34m,\u001b[0m\u001b[0;31m \u001b[0m\u001b[0;31m\\\u001b[0m\u001b[0;34m\u001b[0m\u001b[0;34m\u001b[0m\u001b[0m\n\u001b[0m\u001b[1;32m      2\u001b[0m \u001b[0;34m', '\u001b[0m\u001b[0;34m.\u001b[0m\u001b[0mjoin\u001b[0m\u001b[0;34m(\u001b[0m\u001b[0;34m[\u001b[0m\u001b[0;34m'?'\u001b[0m \u001b[0;32mfor\u001b[0m \u001b[0m_\u001b[0m \u001b[0;32min\u001b[0m \u001b[0mrange\u001b[0m\u001b[0;34m(\u001b[0m\u001b[0mlen\u001b[0m\u001b[0;34m(\u001b[0m\u001b[0mcolumns\u001b[0m\u001b[0;34m)\u001b[0m\u001b[0;34m)\u001b[0m\u001b[0;34m]\u001b[0m\u001b[0;34m)\u001b[0m\u001b[0;34m\u001b[0m\u001b[0;34m\u001b[0m\u001b[0m\n",
      "\u001b[0;31mNameError\u001b[0m: name 'columns' is not defined"
     ]
    }
   ],
   "source": [
    "', '.join([' '.join(c) for c in zip(columns, columnTypes)]), \\\n",
    "', '.join(['?' for _ in range(len(columns))])"
   ]
  },
  {
   "cell_type": "code",
   "execution_count": 28,
   "metadata": {
    "tags": []
   },
   "outputs": [
    {
     "name": "stdout",
     "output_type": "stream",
     "text": [
      "sizeof state object = 6.10352e-05 MiB; sizeof pickled state object = 0.00426674 MiB; sizeof compressed picked state object = 0.00142384 MiB\n",
      "CPU times: user 3.66 ms, sys: 7.04 ms, total: 10.7 ms\n",
      "Wall time: 11.7 ms\n"
     ]
    }
   ],
   "source": [
    "%%time\n",
    "import lzma\n",
    "import sys\n",
    "\n",
    "stateCompressed = lzma.compress(stateBytes)\n",
    "\n",
    "print('sizeof state object = %g MiB; sizeof pickled state object = %g MiB; sizeof compressed picked state object = %g MiB' % \\\n",
    "    (sys.getsizeof(state) / (1<<20), sys.getsizeof(stateBytes) / (1<<20), sys.getsizeof(stateCompressed)/(1<<20)))"
   ]
  },
  {
   "cell_type": "code",
   "execution_count": 29,
   "metadata": {},
   "outputs": [
    {
     "ename": "NameError",
     "evalue": "name 'dfSimulations' is not defined",
     "output_type": "error",
     "traceback": [
      "\u001b[0;31m---------------------------------------------------------------------------\u001b[0m",
      "\u001b[0;31mNameError\u001b[0m                                 Traceback (most recent call last)",
      "\u001b[0;32m<timed exec>\u001b[0m in \u001b[0;36m<module>\u001b[0;34m\u001b[0m\n",
      "\u001b[0;31mNameError\u001b[0m: name 'dfSimulations' is not defined"
     ]
    }
   ],
   "source": [
    "%%time\n",
    "import os\n",
    "import pickle\n",
    "\n",
    "save_dict = {\\\n",
    "    'dfHamiltonians': dfHamiltonians, \\\n",
    "    'dfDecoherence': dfDecoherence, \\\n",
    "    'dfSimulations': dfSimulations\n",
    "}\n",
    "\n",
    "outputfile = open(os.path.join('WorkingData', string_uuid.hex + \"_mcwf.pkl\"), \"wb\")\n",
    "pickle.dump(save_dict, outputfile)"
   ]
  },
  {
   "cell_type": "code",
   "execution_count": 30,
   "metadata": {},
   "outputs": [
    {
     "ename": "OperationalError",
     "evalue": "unable to open database file",
     "output_type": "error",
     "traceback": [
      "\u001b[0;31m---------------------------------------------------------------------------\u001b[0m",
      "\u001b[0;31mOperationalError\u001b[0m                          Traceback (most recent call last)",
      "\u001b[0;32m<timed exec>\u001b[0m in \u001b[0;36m<module>\u001b[0;34m\u001b[0m\n",
      "\u001b[0;31mOperationalError\u001b[0m: unable to open database file"
     ]
    }
   ],
   "source": [
    "%%time\n",
    "import sqlite3\n",
    "conn = sqlite3.connect('WorkingData/%s-compressed.db' % string_uuid.hex)\n",
    "\n",
    "sqlCreateTable = '''\n",
    "    CREATE TABLE IF NOT EXISTS\n",
    "    SimulationResults\n",
    "    (''' + ', '.join([' '.join(c) for c in zip(columnsSimulationResultsCompressed, columnTypes)]) + ')'\n",
    "\n",
    "sqlInsert = '''\n",
    "    INSERT INTO SimulationResults\n",
    "''' + str(columnsSimulationResultsCompressed) + 'VALUES (' + ', '.join(['?' for _ in range(len(columnsSimulationResultsCompressed))]) + ')'\n",
    "\n",
    "\n",
    "dfHamiltonians.to_sql('Hamiltonians', con=conn, if_exists='append')\n",
    "dfDecoherence.to_sql('Decoherence', con=conn, if_exists='append')\n",
    "\n",
    "conn.execute(sqlCreateTable)\n",
    "for row in dataSimulationResultsCompressed:\n",
    "    #print(row)\n",
    "    conn.execute(sqlInsert, row)\n",
    "\n",
    "conn.commit()\n",
    "conn.close()"
   ]
  },
  {
   "cell_type": "code",
   "execution_count": 31,
   "metadata": {},
   "outputs": [
    {
     "ename": "OperationalError",
     "evalue": "unable to open database file",
     "output_type": "error",
     "traceback": [
      "\u001b[0;31m---------------------------------------------------------------------------\u001b[0m",
      "\u001b[0;31mOperationalError\u001b[0m                          Traceback (most recent call last)",
      "\u001b[0;32m<ipython-input-31-bcc5f501b2b3>\u001b[0m in \u001b[0;36m<module>\u001b[0;34m\u001b[0m\n\u001b[0;32m----> 1\u001b[0;31m \u001b[0mconn\u001b[0m \u001b[0;34m=\u001b[0m \u001b[0msqlite3\u001b[0m\u001b[0;34m.\u001b[0m\u001b[0mconnect\u001b[0m\u001b[0;34m(\u001b[0m\u001b[0;34m'WorkingData/%s.db'\u001b[0m \u001b[0;34m%\u001b[0m \u001b[0mstring_uuid\u001b[0m\u001b[0;34m.\u001b[0m\u001b[0mhex\u001b[0m\u001b[0;34m)\u001b[0m\u001b[0;34m\u001b[0m\u001b[0;34m\u001b[0m\u001b[0m\n\u001b[0m\u001b[1;32m      2\u001b[0m cursor = conn.execute('''\n\u001b[1;32m      3\u001b[0m     \u001b[0mSELECT\u001b[0m \u001b[0mCOUNT\u001b[0m\u001b[0;34m(\u001b[0m\u001b[0;34m*\u001b[0m\u001b[0;34m)\u001b[0m \u001b[0mFROM\u001b[0m \u001b[0mSimulationResults\u001b[0m\u001b[0;34m\u001b[0m\u001b[0;34m\u001b[0m\u001b[0m\n\u001b[1;32m      4\u001b[0m ''')\n\u001b[1;32m      5\u001b[0m \u001b[0mprint\u001b[0m\u001b[0;34m(\u001b[0m\u001b[0mcursor\u001b[0m\u001b[0;34m.\u001b[0m\u001b[0mfetchall\u001b[0m\u001b[0;34m(\u001b[0m\u001b[0;34m)\u001b[0m\u001b[0;34m)\u001b[0m\u001b[0;34m\u001b[0m\u001b[0;34m\u001b[0m\u001b[0m\n",
      "\u001b[0;31mOperationalError\u001b[0m: unable to open database file"
     ]
    }
   ],
   "source": [
    "conn = sqlite3.connect('WorkingData/%s.db' % string_uuid.hex)\n",
    "cursor = conn.execute('''\n",
    "    SELECT COUNT(*) FROM SimulationResults\n",
    "''')\n",
    "print(cursor.fetchall())\n",
    "conn.close()"
   ]
  },
  {
   "cell_type": "code",
   "execution_count": 32,
   "metadata": {},
   "outputs": [
    {
     "data": {
      "text/plain": [
       "-4.819697380065918"
      ]
     },
     "execution_count": 32,
     "metadata": {},
     "output_type": "execute_result"
    }
   ],
   "source": [
    "sizePickle = 2535363205 \n",
    "sizeSqlite3 = 2540417024\n",
    "\n",
    "(sizePickle - sizeSqlite3) / (1<<20)"
   ]
  }
 ],
 "metadata": {
  "kernelspec": {
   "display_name": "Python 3",
   "language": "python",
   "name": "python3"
  },
  "language_info": {
   "codemirror_mode": {
    "name": "ipython",
    "version": 3
   },
   "file_extension": ".py",
   "mimetype": "text/x-python",
   "name": "python",
   "nbconvert_exporter": "python",
   "pygments_lexer": "ipython3",
   "version": "3.7.7"
  }
 },
 "nbformat": 4,
 "nbformat_minor": 4
}
