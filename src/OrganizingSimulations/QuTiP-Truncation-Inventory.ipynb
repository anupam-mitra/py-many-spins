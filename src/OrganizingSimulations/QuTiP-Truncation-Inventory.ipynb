{
 "cells": [
  {
   "cell_type": "markdown",
   "metadata": {},
   "source": [
    "This is a list of truncations to be used on the singular values. "
   ]
  },
  {
   "cell_type": "code",
   "execution_count": 2,
   "metadata": {},
   "outputs": [],
   "source": [
    "#import qutip\n",
    "import numpy as np\n",
    "import uuid\n",
    "\n",
    "import pandas as pd\n",
    "import sqlite3"
   ]
  },
  {
   "cell_type": "code",
   "execution_count": 5,
   "metadata": {},
   "outputs": [
    {
     "data": {
      "text/plain": [
       "array([9.765625e-04, 1.953125e-03, 3.906250e-03, 7.812500e-03,\n",
       "       1.562500e-02, 3.125000e-02, 6.250000e-02, 1.250000e-01,\n",
       "       2.500000e-01, 5.000000e-01, 1.000000e+00])"
      ]
     },
     "execution_count": 5,
     "metadata": {},
     "output_type": "execute_result"
    }
   ],
   "source": [
    "error_decimation = np.logspace(-10, 0, 11, base=2)\n",
    "error_decimation"
   ]
  },
  {
   "cell_type": "code",
   "execution_count": 3,
   "metadata": {},
   "outputs": [],
   "source": [
    "truncation_columns = ('truncation_uuid', 'truncation_method', 'eigenvalue_threshold', 'n_largest_eigenvalues')\n",
    "\n",
    "truncation_rows = []\n",
    "\n",
    "for epsilon in error_decimation:\n",
    "    uuid_generated = uuid.uuid4() \n",
    "    string_uuid = str(uuid_generated)\n",
    "    truncation_row = (string_uuid, None, epsilon, None)\n",
    "    \n",
    "    truncation_rows += [truncation_row]"
   ]
  },
  {
   "cell_type": "code",
   "execution_count": 4,
   "metadata": {},
   "outputs": [],
   "source": [
    "truncation_df = pd.DataFrame(data=truncation_rows, columns=truncation_columns)"
   ]
  },
  {
   "cell_type": "code",
   "execution_count": 8,
   "metadata": {},
   "outputs": [
    {
     "name": "stdout",
     "output_type": "stream",
     "text": [
      "Table 'TruncationSchemes' already exists.\n"
     ]
    }
   ],
   "source": [
    "conn = sqlite3.connect('SimulationRecords.db')\n",
    "try:\n",
    "    truncation_df.to_sql('TruncationSchemes', conn, if_exists='fail')\n",
    "except ValueError as v:\n",
    "    print(v)\n",
    "finally:\n",
    "    conn.commit()\n",
    "    conn.close()"
   ]
  },
  {
   "cell_type": "code",
   "execution_count": 9,
   "metadata": {},
   "outputs": [
    {
     "data": {
      "text/plain": [
       "[(0, '0542214a-ea79-4b71-9b70-b5499a2a8ad8', None, 0.0, None),\n",
       " (1, '7d986160-87e7-4d43-b13b-d776f9ba35fe', None, 1e-09, None),\n",
       " (2, '1c281bff-c2ba-4ad0-a989-7ccc8caa8b6b', None, 1e-08, None),\n",
       " (3, 'f32d7b61-ad16-40ee-a04d-1ee8ef996091', None, 1e-07, None),\n",
       " (4, '3d9e31b0-f8c1-49bb-bacd-08d328c67edc', None, 1e-06, None),\n",
       " (5, '20a322a7-bac8-40ee-9da4-c1e3863a7fdc', None, 1e-05, None),\n",
       " (6, '276b7bbf-706e-494e-a462-dfa1c11e3e3b', None, 0.0001, None),\n",
       " (7, '976ad643-64d1-48f8-b10c-26d67070431c', None, 0.001, None),\n",
       " (8, 'b34edc17-6702-4dfa-bf4f-a73c29ab2c77', None, 0.01, None),\n",
       " (9, '3b558c32-888d-41d1-9c22-b56481e50b76', None, 0.1, None)]"
      ]
     },
     "execution_count": 9,
     "metadata": {},
     "output_type": "execute_result"
    }
   ],
   "source": [
    "sql = '''\n",
    "    SELECT * FROM TruncationSchemePandas\n",
    "'''\n",
    "conn = sqlite3.connect('SimulationRecords.db')\n",
    "cursor = conn.execute(sql)\n",
    "rows_fromdb = cursor.fetchall()\n",
    "conn.close()\n",
    "rows_fromdb"
   ]
  },
  {
   "cell_type": "code",
   "execution_count": 42,
   "metadata": {},
   "outputs": [
    {
     "data": {
      "text/plain": [
       "truncation_uuid           object\n",
       "truncation_method         object\n",
       "eigenvalue_threshold     float64\n",
       "n_largest_eigenvalues     object\n",
       "dtype: object"
      ]
     },
     "execution_count": 42,
     "metadata": {},
     "output_type": "execute_result"
    }
   ],
   "source": [
    "truncation_df.dtypes"
   ]
  },
  {
   "cell_type": "code",
   "execution_count": 50,
   "metadata": {},
   "outputs": [
    {
     "data": {
      "text/plain": [
       "array([0.e+00, 1.e-09, 1.e-08, 1.e-07, 1.e-06, 1.e-05, 1.e-04, 1.e-03,\n",
       "       1.e-02, 1.e-01])"
      ]
     },
     "execution_count": 50,
     "metadata": {},
     "output_type": "execute_result"
    }
   ],
   "source": [
    "series = truncation_df['eigenvalue_threshold']\n",
    "np.asarray(series, dtype=float)"
   ]
  },
  {
   "cell_type": "code",
   "execution_count": null,
   "metadata": {},
   "outputs": [],
   "source": []
  }
 ],
 "metadata": {
  "kernelspec": {
   "display_name": "Python 3",
   "language": "python",
   "name": "python3"
  },
  "language_info": {
   "codemirror_mode": {
    "name": "ipython",
    "version": 3
   },
   "file_extension": ".py",
   "mimetype": "text/x-python",
   "name": "python",
   "nbconvert_exporter": "python",
   "pygments_lexer": "ipython3",
   "version": "3.7.7"
  }
 },
 "nbformat": 4,
 "nbformat_minor": 4
}
